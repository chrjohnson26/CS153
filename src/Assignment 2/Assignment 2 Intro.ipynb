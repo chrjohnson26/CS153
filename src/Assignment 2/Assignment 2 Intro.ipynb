{
 "cells": [
  {
   "cell_type": "markdown",
   "id": "500fdbfb",
   "metadata": {},
   "source": [
    "## CS153 Assignment 2: Image Composition\n",
    "\n",
    "This notebook provides an introduction to some basic image processing that will extend the tools practiced in Assignment 1 in order to combine multiple images to form a new composition.\n",
    "\n",
    "The purpose of this notebook is to provide a sandbox environment in which you can test your code and visually inspect the output. Note that when you make changes to a library that has already been imported into a notebook, you must restart the notebook kernel before those changes will be imported. \n",
    "\n",
    "You will not turn in this notebook; for code you only need to turn in your `A2.py` file. There will additionally be written questions that you will turn in on Gradescope, including a composition of your own design using this code.\n",
    "\n",
    "Note that your code will be evaluated in a manner very similar to this notebook (i.e. your `A2.py` file will be imported into a notebook, which will then run and the results inspected by myself or a grutor). That test notebook is not the same as this notebook, however; there will also be some additional tests for your code designed to ensure it is robustly implemented. You are encouraged to add your own tests to this notebook to make sure your code is stable and meets the expectations specified in the assignment."
   ]
  },
  {
   "cell_type": "markdown",
   "id": "e63505f6",
   "metadata": {},
   "source": [
    "### Setup\n",
    "\n",
    "This next cell just sets up the import statements from your `A2.py` file which will contain all of your code for the assignment. Note that we also import plotting tools so we can show images in the notebook.\n",
    "\n",
    "Note: we imported plotting tools above, but will redundantly do so again so we can skip the Tool Demo if we so choose."
   ]
  },
  {
   "cell_type": "code",
   "execution_count": null,
   "id": "bfad9b0d",
   "metadata": {},
   "outputs": [],
   "source": [
    "import A2_sol as A2\n",
    "import matplotlib.pyplot as plt\n",
    "\n",
    "%matplotlib inline\n",
    "\n",
    "plt.rcParams['figure.figsize'] = [13, 10]"
   ]
  },
  {
   "cell_type": "markdown",
   "id": "80a68152",
   "metadata": {},
   "source": [
    "### Image Composition\n",
    "\n",
    "This section will test your function for the assignment, namely:\n",
    "- `place_object`"
   ]
  },
  {
   "cell_type": "markdown",
   "id": "9faf09f4",
   "metadata": {},
   "source": [
    "This first cell demonstrates the built-in image loader for the provided transparent elements."
   ]
  },
  {
   "cell_type": "code",
   "execution_count": null,
   "id": "e78fae95",
   "metadata": {},
   "outputs": [],
   "source": [
    "elpath = 'images/chars/wizard.png' # <-- change this path to examine different elements\n",
    "\n",
    "content, mask = A2.load_alpha(elpath)\n",
    "\n",
    "plt.subplot(1,2,1)\n",
    "plt.imshow(content)\n",
    "plt.axis('off')\n",
    "\n",
    "plt.subplot(1,2,2)\n",
    "plt.imshow(mask, cmap = 'gray')\n",
    "plt.axis('off')"
   ]
  },
  {
   "cell_type": "markdown",
   "id": "83209d29",
   "metadata": {},
   "source": [
    "These next cells demonstrates how you can use `place_object` to construct scenes."
   ]
  },
  {
   "cell_type": "code",
   "execution_count": null,
   "id": "e87514d5",
   "metadata": {},
   "outputs": [],
   "source": [
    "elpath = 'images/chars/bard.png' # <-- change this path to examine different elements\n",
    "bkgpath = 'images/bkg/town_night.jpg' # <-- change this path to examine different backgrounds\n",
    "\n",
    "content, mask = A2.load_alpha(elpath)\n",
    "bkg = A2.load_img(bkgpath)\n",
    "\n",
    "loc = (0.63, 0.75) # <-- change these values to move the element around\n",
    "hght = 0.18 # <-- change this value to change the element size\n",
    "\n",
    "scene = A2.place_object(bkg, content, mask, loc, hght)\n",
    "\n",
    "plt.imshow(scene)\n",
    "plt.axis('off')"
   ]
  },
  {
   "cell_type": "markdown",
   "id": "8f67340c",
   "metadata": {},
   "source": [
    "The cell below uses identical structure to the cell above, it just provides another pre-set example and showcases the background without the element and the composite next to each other."
   ]
  },
  {
   "cell_type": "code",
   "execution_count": null,
   "id": "f41ecd3c",
   "metadata": {},
   "outputs": [],
   "source": [
    "elpath = 'images/chars/gladiator.png' \n",
    "bkgpath = 'images/bkg/barrow.jpg' \n",
    "\n",
    "content, mask = A2.load_alpha(elpath)\n",
    "bkg = A2.load_img(bkgpath)\n",
    "\n",
    "loc = (0.5, 0.6) \n",
    "hght = 0.5 \n",
    "\n",
    "scene = A2.place_object(bkg, content, mask, loc, hght)\n",
    "\n",
    "plt.subplot(1,2,1)\n",
    "plt.imshow(bkg)\n",
    "plt.axis('off')\n",
    "\n",
    "plt.subplot(1,2,2)\n",
    "plt.imshow(scene)\n",
    "plt.axis('off')"
   ]
  },
  {
   "cell_type": "markdown",
   "id": "e8a30f3a",
   "metadata": {},
   "source": [
    "It's important to handle challenging situations such as objects going off the edge of the image without your function crashing. You should be sure to design and run other test inputs to make sure you can handle user inputs!"
   ]
  },
  {
   "cell_type": "code",
   "execution_count": null,
   "id": "529c2567",
   "metadata": {},
   "outputs": [],
   "source": [
    "elpath = 'images/chars/dragon.png'\n",
    "bkgpath = 'images/bkg/cairn.jpg'\n",
    "\n",
    "content, mask = A2.load_alpha(elpath)\n",
    "bkg = A2.load_img(bkgpath)\n",
    "\n",
    "loc = (0.8, 0.1) # <-- note the location near the image edge!\n",
    "hght = 0.4\n",
    "\n",
    "scene = A2.place_object(bkg, content, mask, loc, hght)\n",
    "\n",
    "plt.imshow(scene)\n",
    "plt.axis('off')"
   ]
  },
  {
   "cell_type": "code",
   "execution_count": null,
   "id": "80ed4559",
   "metadata": {},
   "outputs": [],
   "source": []
  }
 ],
 "metadata": {
  "kernelspec": {
   "display_name": "Python 3 (ipykernel)",
   "language": "python",
   "name": "python3"
  },
  "language_info": {
   "codemirror_mode": {
    "name": "ipython",
    "version": 3
   },
   "file_extension": ".py",
   "mimetype": "text/x-python",
   "name": "python",
   "nbconvert_exporter": "python",
   "pygments_lexer": "ipython3",
   "version": "3.9.7"
  }
 },
 "nbformat": 4,
 "nbformat_minor": 5
}
