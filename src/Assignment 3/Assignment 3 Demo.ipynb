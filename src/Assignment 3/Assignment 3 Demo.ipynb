{
 "cells": [
  {
   "cell_type": "markdown",
   "id": "500fdbfb",
   "metadata": {},
   "source": [
    "## CS153 Assignment 3: Advanced Image Composition\n",
    "\n",
    "This notebook provides an overview of the functionality expected for Assignment 3 in CS153 Fall 2024."
   ]
  },
  {
   "cell_type": "markdown",
   "id": "e63505f6",
   "metadata": {},
   "source": [
    "### Setup\n",
    "\n",
    "This next cell just sets up the import statements from your `A3.py` file which will contain all of your code for the assignment. Note that we also import plotting tools so we can show images in the notebook, as well as some functions for handling the input and output from our composition functions.\n",
    "\n",
    "There are two libraries in particular that you may need to install for this assignment: [scipy](https://anaconda.org/anaconda/scipy) (for scipy.io) and [imutils](https://anaconda.org/conda-forge/imutils)."
   ]
  },
  {
   "cell_type": "code",
   "execution_count": null,
   "id": "bfad9b0d",
   "metadata": {},
   "outputs": [],
   "source": [
    "import A3 as A3\n",
    "import matplotlib.pyplot as plt\n",
    "from glob import glob\n",
    "import os\n",
    "import math as m\n",
    "import numpy as np\n",
    "from scipy.io import loadmat\n",
    "\n",
    "%matplotlib inline\n",
    "\n",
    "plt.rcParams['figure.figsize'] = [12, 10]"
   ]
  },
  {
   "cell_type": "markdown",
   "id": "18837433",
   "metadata": {},
   "source": [
    "### Question 1: Green Screen Extraction\n",
    "\n",
    "This section will test your function for Question 1 on the assignment, namely:\n",
    "- `green_extract`"
   ]
  },
  {
   "cell_type": "code",
   "execution_count": null,
   "id": "ac40f2e6",
   "metadata": {},
   "outputs": [],
   "source": [
    "imlist = [os.path.basename(x) for x in glob('imgs/test_imgs/*.png')]\n",
    "\n",
    "for i, imname in enumerate(imlist):\n",
    "    print(str(i) + \". \" + imname)"
   ]
  },
  {
   "cell_type": "markdown",
   "id": "033c0508",
   "metadata": {},
   "source": [
    "Let's show just a single element image that we've seen before. Note that our output is a list, so we still need to index into it to get the output image. Here I'm also using an alternative notation to multiply a single-channel mask with a multi-channel image. This is more efficient (but I also find it slightly less easy to follow when first introduced to these calculations, which is why I started the course explicitly converting to 3-channels)."
   ]
  },
  {
   "cell_type": "code",
   "execution_count": null,
   "id": "9c023dd9",
   "metadata": {},
   "outputs": [],
   "source": [
    "elements, masks = A3.green_extract('imgs/test_imgs/calden_falling.png')\n",
    "\n",
    "plt.imshow(elements[0]*masks[0][:,:,None])\n",
    "plt.axis('off')"
   ]
  },
  {
   "cell_type": "markdown",
   "id": "bb616152",
   "metadata": {},
   "source": [
    "We can also show the output from a multi-object image."
   ]
  },
  {
   "cell_type": "code",
   "execution_count": null,
   "id": "8fa9a76a",
   "metadata": {},
   "outputs": [],
   "source": [
    "elements, masks = A3.green_extract('imgs/test_imgs/head_smiles.png')\n",
    "\n",
    "print(len(elements))\n",
    "\n",
    "fig, axes = plt.subplots(2,3, figsize=(16,12))\n",
    "\n",
    "for jj, element in enumerate(elements):\n",
    "    x = (jj%3)\n",
    "    y = m.floor(jj/3)\n",
    "    axes[y][x].imshow(element*masks[jj][:,:,None])\n",
    "    axes[y][x].axis('off')\n",
    "    \n",
    "axes[1][2].axis('off')"
   ]
  },
  {
   "cell_type": "markdown",
   "id": "48cbd463",
   "metadata": {},
   "source": [
    "And here is an example of an image I did not do any fine-tuning of the output for to show an example of a poorly constructed mask."
   ]
  },
  {
   "cell_type": "code",
   "execution_count": null,
   "id": "9d3ab10a",
   "metadata": {},
   "outputs": [],
   "source": [
    "elements, masks = A3.green_extract('imgs/custom_imgs/crouch.jpg')\n",
    "\n",
    "plt.imshow(elements[1]*masks[1][:,:,None])\n",
    "plt.axis('off')"
   ]
  },
  {
   "cell_type": "markdown",
   "id": "897b2f85",
   "metadata": {},
   "source": [
    "### Question 2: Advanced Insert\n",
    "\n",
    "This section will test your functions for Question 2 on the assignment, namely:\n",
    "- `affine_insert`\n",
    "\n",
    "Note, it is demonstrated here using the output from Question 1, but you can modify this code to use transparent objects from Assignment 2 to test this part of the assignment without a functioning `green_extract` function."
   ]
  },
  {
   "cell_type": "markdown",
   "id": "2bf9240e",
   "metadata": {},
   "source": [
    "First we will demonstrate inserting multiple objects to the same scene and taking advantage of the scene's depth map feature, all using `affine_insert`."
   ]
  },
  {
   "cell_type": "code",
   "execution_count": null,
   "id": "149fb59b",
   "metadata": {},
   "outputs": [],
   "source": [
    "bgname = '_15'\n",
    "\n",
    "d = loadmat('imgs/depth_maps/depth' + bgname + '.mat')\n",
    "depth_map = d['dimg']\n",
    "bckgrd = A3.load_img('imgs/backgrounds/image' + bgname + '.png')\n",
    "\n",
    "plt.subplot(1,2,1)\n",
    "plt.imshow(bckgrd)\n",
    "\n",
    "plt.subplot(1,2,2)\n",
    "plt.imshow(depth_map, cmap='gray')"
   ]
  },
  {
   "cell_type": "markdown",
   "id": "617c764f",
   "metadata": {},
   "source": [
    "We can explore the depth map to see what kind of values we should be dealing with. Let's print a few coordinates to try and gauge where to insert our objects."
   ]
  },
  {
   "cell_type": "code",
   "execution_count": null,
   "id": "b0e0cc03",
   "metadata": {},
   "outputs": [],
   "source": [
    "print(depth_map[300,125])\n",
    "print(depth_map[400,200])\n",
    "print(depth_map[400,300])\n",
    "print(depth_map[300,300])\n"
   ]
  },
  {
   "cell_type": "markdown",
   "id": "2b683258",
   "metadata": {},
   "source": [
    "Now let's try inserting some objects."
   ]
  },
  {
   "cell_type": "code",
   "execution_count": null,
   "id": "79b1a4d0",
   "metadata": {},
   "outputs": [],
   "source": [
    "elements, masks = A3.green_extract('imgs/custom_imgs/megan_horflip.png')\n",
    "\n",
    "megan = elements[0]\n",
    "megan_mask = masks[0]\n",
    "\n",
    "elements, masks = A3.green_extract('imgs/test_imgs/head.png')\n",
    "\n",
    "head = elements[0]\n",
    "head_mask = masks[0]\n",
    "\n",
    "# affine_insert(scene, element, elmask, eldepth, location, height, angle = 0, scene_depth = None, alpha = 1)\n",
    "scene, scene_depth = A3.affine_insert(bckgrd, megan, megan_mask, 3.0, [0.2,0.7], 0.7, 35, depth_map)\n",
    "\n",
    "plt.subplot(1,2,1)\n",
    "plt.imshow(scene)\n",
    "plt.axis('off')\n",
    "\n",
    "plt.subplot(1,2,2)\n",
    "plt.imshow(scene_depth, cmap='gray')\n",
    "plt.axis('off')"
   ]
  },
  {
   "cell_type": "code",
   "execution_count": null,
   "id": "86b340ac",
   "metadata": {},
   "outputs": [],
   "source": [
    "scene2, scene_depth2 = A3.affine_insert(scene, head, head_mask, 2.9, [0.4,0.68], 0.16, -15, scene_depth)\n",
    "\n",
    "plt.subplot(1,2,1)\n",
    "plt.imshow(scene2)\n",
    "plt.axis('off')\n",
    "\n",
    "plt.subplot(1,2,2)\n",
    "plt.imshow(scene_depth2, cmap='gray')\n",
    "plt.axis('off')"
   ]
  },
  {
   "cell_type": "markdown",
   "id": "80a68152",
   "metadata": {},
   "source": [
    "### Question 3: Putting it all Together\n",
    "\n",
    "Use your `custom_compose` function to build scenes, and feel free to share some on Slack! I will be periodically posting images throughout the next week.\n",
    "\n",
    "Also, we should have time slots for you to go and take your own green screen images! Details to follow."
   ]
  },
  {
   "cell_type": "code",
   "execution_count": null,
   "id": "80ed4559",
   "metadata": {},
   "outputs": [],
   "source": []
  }
 ],
 "metadata": {
  "kernelspec": {
   "display_name": "Python 3 (ipykernel)",
   "language": "python",
   "name": "python3"
  },
  "language_info": {
   "codemirror_mode": {
    "name": "ipython",
    "version": 3
   },
   "file_extension": ".py",
   "mimetype": "text/x-python",
   "name": "python",
   "nbconvert_exporter": "python",
   "pygments_lexer": "ipython3",
   "version": "3.12.3"
  }
 },
 "nbformat": 4,
 "nbformat_minor": 5
}
