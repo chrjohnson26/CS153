{
 "cells": [
  {
   "cell_type": "markdown",
   "id": "4f8230db-346b-426a-9808-f9c029b10e2c",
   "metadata": {},
   "source": [
    "# Assignment Demo Notebook\n",
    "\n",
    "This notebook is meant to provide an interactive method for testing your assignment code. When modifying code that is being imported into a Jupyter Notebook, you must restart the kernel to have changes made to the external file incorporated into the notebook. This can sometimes be frustrating, so please feel free to also copy your code into the notebook for interactive development, and then copy it back to the Python file once you are relatively sure that it is working as intended. \n",
    "\n",
    "You will not turn this demo notebook in; it is yours to use as you see fit. However, be aware that your code will be tested using a test notebook that is not released; you should also think about what tests will be important to make outside of the demonstrations already set here.\n",
    "\n",
    "Each example provided here includes a set of defaults in comments so you can always return to the values that should provide the expected output."
   ]
  },
  {
   "cell_type": "code",
   "execution_count": 1,
   "id": "3779ec9c",
   "metadata": {},
   "outputs": [],
   "source": [
    "import cv2\n",
    "import matplotlib.pyplot as plt \n",
    "import numpy as np\n",
    "import A1 as A1\n",
    "\n",
    "%matplotlib inline\n",
    "\n",
    "plt.rcParams['figure.figsize'] = [12, 8]"
   ]
  },
  {
   "cell_type": "code",
   "execution_count": 2,
   "id": "551492e0",
   "metadata": {},
   "outputs": [
    {
     "name": "stderr",
     "output_type": "stream",
     "text": [
      "[ WARN:0@2.749] global loadsave.cpp:268 findDecoder imread_('logo_imgs/frame_0.png'): can't open/read file: check file path/integrity\n"
     ]
    },
    {
     "ename": "AttributeError",
     "evalue": "'NoneType' object has no attribute 'shape'",
     "output_type": "error",
     "traceback": [
      "\u001b[0;31m---------------------------------------------------------------------------\u001b[0m",
      "\u001b[0;31mAttributeError\u001b[0m                            Traceback (most recent call last)",
      "Cell \u001b[0;32mIn[2], line 7\u001b[0m\n\u001b[1;32m      4\u001b[0m numpix \u001b[38;5;241m=\u001b[39m \u001b[38;5;241m4\u001b[39m \u001b[38;5;66;03m# default 4\u001b[39;00m\n\u001b[1;32m      5\u001b[0m offset \u001b[38;5;241m=\u001b[39m \u001b[38;5;241m0\u001b[39m \u001b[38;5;66;03m# default 0\u001b[39;00m\n\u001b[0;32m----> 7\u001b[0m img \u001b[38;5;241m=\u001b[39m A1\u001b[38;5;241m.\u001b[39mslice_video(base_path, start_frame, frames, numpix, offset)\n\u001b[1;32m      9\u001b[0m plt\u001b[38;5;241m.\u001b[39mimshow(img)\n",
      "File \u001b[0;32m~/Codespace/CS153/src/Assignment_1/A1.py:34\u001b[0m, in \u001b[0;36mslice_video\u001b[0;34m(basepath, start_num, frames, numpix, offset)\u001b[0m\n\u001b[1;32m     21\u001b[0m \u001b[38;5;250m\u001b[39m\u001b[38;5;124;03m\"\"\"\u001b[39;00m\n\u001b[1;32m     22\u001b[0m \u001b[38;5;124;03mGenerates a static image by taking a slice through a video.\u001b[39;00m\n\u001b[1;32m     23\u001b[0m \u001b[38;5;124;03mInput:\u001b[39;00m\n\u001b[0;32m   (...)\u001b[0m\n\u001b[1;32m     30\u001b[0m \u001b[38;5;124;03m- comp_img: an RGB image containing the composite image created by sampling columns from each of the video frames.\u001b[39;00m\n\u001b[1;32m     31\u001b[0m \u001b[38;5;124;03m\"\"\"\u001b[39;00m\n\u001b[1;32m     32\u001b[0m img \u001b[38;5;241m=\u001b[39m load_img(basepath \u001b[38;5;241m+\u001b[39m \u001b[38;5;28mstr\u001b[39m(start_num) \u001b[38;5;241m+\u001b[39m \u001b[38;5;124m'\u001b[39m\u001b[38;5;124m.png\u001b[39m\u001b[38;5;124m'\u001b[39m)\n\u001b[0;32m---> 34\u001b[0m comp_img \u001b[38;5;241m=\u001b[39m np\u001b[38;5;241m.\u001b[39mzeros(img\u001b[38;5;241m.\u001b[39mshape)\n\u001b[1;32m     36\u001b[0m [_,w,_] \u001b[38;5;241m=\u001b[39m img\u001b[38;5;241m.\u001b[39mshape\n\u001b[1;32m     38\u001b[0m \u001b[38;5;28;01mfor\u001b[39;00m fidx \u001b[38;5;129;01min\u001b[39;00m \u001b[38;5;28mrange\u001b[39m(frames):\n\u001b[1;32m     39\u001b[0m     \u001b[38;5;66;03m# ... your code goes here ...\u001b[39;00m\n",
      "\u001b[0;31mAttributeError\u001b[0m: 'NoneType' object has no attribute 'shape'"
     ]
    }
   ],
   "source": [
    "base_path = 'logo_imgs/frame_'\n",
    "start_frame = 0 # default 0\n",
    "frames = 119 # default 119\n",
    "numpix = 4 # default 4\n",
    "offset = 0 # default 0\n",
    "\n",
    "img = A1.slice_video(base_path, start_frame, frames, numpix, offset)\n",
    "\n",
    "plt.imshow(img)"
   ]
  },
  {
   "cell_type": "code",
   "execution_count": null,
   "id": "77e45bd5-2ea0-4207-81b1-feda086a00e9",
   "metadata": {},
   "outputs": [],
   "source": [
    "base_path = 'leaf_imgs/frame_'\n",
    "start_frame = 0 # default 0\n",
    "frames = 293 # default 293\n",
    "numpix = 2 # default 2\n",
    "offset = 0 # default 0\n",
    "\n",
    "img = A1.slice_video(base_path, start_frame, frames, numpix, offset)\n",
    "\n",
    "plt.imshow(img)"
   ]
  },
  {
   "cell_type": "code",
   "execution_count": null,
   "id": "2991f639-bccd-4f0b-82aa-7e9376b6b4c8",
   "metadata": {},
   "outputs": [],
   "source": [
    "base_path = 'van_imgs/frame_'\n",
    "start_frame = 70 # default 70\n",
    "frames = 37 # default 37\n",
    "numpix = 34.2 # default 34.2\n",
    "offset = 370 # default 370\n",
    "\n",
    "img = A1.slice_video(base_path, start_frame, frames, numpix, offset)\n",
    "\n",
    "plt.imshow(img)"
   ]
  },
  {
   "cell_type": "code",
   "execution_count": null,
   "id": "f6b693ab-413e-4181-b2be-c8cf1686a041",
   "metadata": {},
   "outputs": [],
   "source": [
    "base_path = 'moose_imgs/frame_'\n",
    "start_frame = 35 # default 35\n",
    "frames = 34 # default 34\n",
    "numpix = 12 # default 12\n",
    "offset = 300 # default 300\n",
    "\n",
    "img = A1.slice_video(base_path, start_frame, frames, numpix, offset)\n",
    "\n",
    "plt.imshow(img)"
   ]
  },
  {
   "cell_type": "code",
   "execution_count": null,
   "id": "8c44f8aa-086a-4312-81ce-04afec01ff85",
   "metadata": {},
   "outputs": [],
   "source": []
  }
 ],
 "metadata": {
  "kernelspec": {
   "display_name": "base",
   "language": "python",
   "name": "python3"
  },
  "language_info": {
   "codemirror_mode": {
    "name": "ipython",
    "version": 3
   },
   "file_extension": ".py",
   "mimetype": "text/x-python",
   "name": "python",
   "nbconvert_exporter": "python",
   "pygments_lexer": "ipython3",
   "version": "3.12.7"
  }
 },
 "nbformat": 4,
 "nbformat_minor": 5
}
